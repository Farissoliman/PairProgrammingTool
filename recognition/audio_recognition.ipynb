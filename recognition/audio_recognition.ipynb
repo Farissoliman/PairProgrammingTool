{
 "cells": [
  {
   "cell_type": "code",
   "execution_count": 1,
   "metadata": {},
   "outputs": [],
   "source": [
    "import speech_recognition as sr\n",
    "from datetime import datetime\n",
    "import json"
   ]
  },
  {
   "attachments": {},
   "cell_type": "markdown",
   "metadata": {},
   "source": [
    "\"\"\"\n",
    "Speech recognition software using the SpeechRecognition library.\n",
    "SpeechRecognition calls on OpenAI's whisper to perform the speech recognition.\n",
    "It also tracks the most recent utterance and prints it with a timestamp for when\n",
    "the utterance was spoken.\n",
    "\n",
    "Returns:\n",
    "    string: Each utterance spoken by the user\n",
    "\"\"\""
   ]
  },
  {
   "cell_type": "code",
   "execution_count": 2,
   "metadata": {},
   "outputs": [],
   "source": [
    "# Create a recognizer object\n",
    "recognizer = sr.Recognizer()\n",
    "\n",
    "# Create a microphone object\n",
    "microphone = sr.Microphone()"
   ]
  },
  {
   "cell_type": "code",
   "execution_count": 3,
   "metadata": {},
   "outputs": [],
   "source": [
    "# Define a function to get the current time\n",
    "def get_current_time():\n",
    "    return datetime.now().strftime(\"%H:%M:%S\")\n",
    "\n",
    "# Define the callback function to handle speech recognition results\n",
    "def callback(recognizer, audio):\n",
    "    try:\n",
    "        # Convert audio to text\n",
    "        text = recognizer.recognize_google(audio)\n",
    "        \n",
    "        # Update the most recent utterance\n",
    "        most_recent_utterance = text\n",
    "        json_format = json.loads(most_recent_utterance)\n",
    "        \n",
    "        json_format['time'] = get_current_time()\n",
    "        json_output = json.dumps(json_format)\n",
    "        \n",
    "        # Print the recognized text with timestamps\n",
    "        print(json_output)\n",
    "        \n",
    "    except sr.UnknownValueError:\n",
    "        # Speech is not recognized\n",
    "        pass\n",
    "    except sr.RequestError as e:\n",
    "        # Error occurred during speech recognition\n",
    "        print(\"Error: {}\".format(e))"
   ]
  },
  {
   "cell_type": "code",
   "execution_count": 4,
   "metadata": {},
   "outputs": [
    {
     "name": "stdout",
     "output_type": "stream",
     "text": [
      "Listening...\n"
     ]
    },
    {
     "name": "stderr",
     "output_type": "stream",
     "text": [
      "Exception in thread Thread-4:\n",
      "Traceback (most recent call last):\n",
      "  File \"/Applications/Xcode.app/Contents/Developer/Library/Frameworks/Python3.framework/Versions/3.8/lib/python3.8/threading.py\", line 932, in _bootstrap_inner\n",
      "    self.run()\n",
      "  File \"/Applications/Xcode.app/Contents/Developer/Library/Frameworks/Python3.framework/Versions/3.8/lib/python3.8/threading.py\", line 870, in run\n",
      "    self._target(*self._args, **self._kwargs)\n",
      "  File \"/Users/farissoliman/Desktop/Tool/PairProgrammingTool/.venv/lib/python3.8/site-packages/speech_recognition/__init__.py\", line 697, in threaded_listen\n",
      "    if running[0]: callback(self, audio)\n",
      "  File \"/var/folders/n6/j4s9mgz53r1c83t9wv1ldfqm0000gn/T/ipykernel_39290/4031340096.py\", line 9, in callback\n",
      "AttributeError: 'Recognizer' object has no attribute 'recognize_whisper'\n"
     ]
    }
   ],
   "source": [
    "# Adjust the recognizer sensitivity to ambient noise and record audio from the microphone\n",
    "with microphone as source:\n",
    "    recognizer.adjust_for_ambient_noise(source)\n",
    "\n",
    "# Start the microphone listening\n",
    "stop_listening = recognizer.listen_in_background(microphone, callback=callback, phrase_time_limit=5)\n",
    "\n",
    "# Wait for keyboard interruption to stop the program\n",
    "print(\"Listening...\")\n",
    "try:\n",
    "    while True:\n",
    "        pass\n",
    "except KeyboardInterrupt:\n",
    "    stop_listening(wait_for_stop=False)"
   ]
  }
 ],
 "metadata": {
  "kernelspec": {
   "display_name": "venv",
   "language": "python",
   "name": "python3"
  },
  "language_info": {
   "codemirror_mode": {
    "name": "ipython",
    "version": 3
   },
   "file_extension": ".py",
   "mimetype": "text/x-python",
   "name": "python",
   "nbconvert_exporter": "python",
   "pygments_lexer": "ipython3",
   "version": "3.8.9"
  },
  "orig_nbformat": 4
 },
 "nbformat": 4,
 "nbformat_minor": 2
}
